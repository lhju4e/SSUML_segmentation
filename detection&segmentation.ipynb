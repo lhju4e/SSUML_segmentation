{
 "cells": [
  {
   "cell_type": "markdown",
   "metadata": {},
   "source": [
    "# cs231 11강 - detection and segmentation\n",
    "\n",
    "-------------------------------"
   ]
  },
  {
   "cell_type": "markdown",
   "metadata": {},
   "source": [
    "# semantic segmentation\n",
    "\n",
    "입력 : 이미지. 출력 : 이미지의 `모든 픽셀`에 카테고리를 정함\n",
    "\n",
    "단점 : 암소 두 마리가 붙어있으면 구분하지 못하고 그저 그 픽셀이 암소라는 것만 알 수 있음\n",
    "\n",
    "###   - classification을 통한 접근 : sliding window\n",
    "```\n",
    "입력 이미지의 모든 영역을 작게 쪼갠 뒤 CNN에 넣어서 forward/backward 시킴\n",
    "\n",
    "너무 비효율적이고, 인접 영역에서 특징이 공유된다는 단점이 있음.\n",
    "```\n",
    "###  - Fully convolutional\n",
    "```\n",
    "CNN에서 fully connected layer을 빼고 계산한다. 위의 방법보단 낫다\n",
    "\n",
    "공간정보를 손실하지 않도록 3 * 3 zero padding을 계속 적용하면서 계산.\n",
    "\n",
    "출력 tensor는 C(클래스) * H * W. \n",
    "\n",
    "이미지의 모든 픽셀 값이 classification score을 매긴다. 학습은 모든 픽셀의 classification loss를 계산해서 평균을 구하고 backward함.\n",
    "\n",
    "단점은, 이미지의 (공간정보) 크기를 계속 유지시켜야 하므로 비용이 굉장히 크다.\n",
    "\n",
    "고해상도의 이미지가 들어온다면, 계산량을 감당하지 못할 것이다.\n",
    "\n",
    "    -> 네트워크에서 특징맵을 downsampling, upsampling 시켜서 입력 이미지의 해상도와 동일하게 만든다. 계산효율을 올릴 수 있다.\n",
    "```\n"
   ]
  },
  {
   "cell_type": "markdown",
   "metadata": {},
   "source": [
    "![fully_convolutional](./image/fully_convonutional.JPG)"
   ]
  },
  {
   "cell_type": "markdown",
   "metadata": {},
   "source": [
    "> Q. 손실함수를 어떻게 디자인하는지\n",
    "    \n",
    "    모든 픽셀을 classification 시켜야 하므로, 출력의 모든 픽셀에 cross entropy 적용\n",
    "    \n",
    "    출력의 모든 픽셀에는 ground truth(참으로 인정해주는 영역인듯?) 가 존재한다.\n",
    "    \n",
    "    이것과 모든 픽셀 간의 cross entropy 를 계산해서, 이 값을 모두 더하거나 평균화한다.\n",
    "    \n",
    "> Q. 모든 픽셀의 카테고리를 알고있다고 가정하는가? \n",
    "    \n",
    "    그렇다. 이미지 분류 문제와 동일하게, 클래스가 고정되어있다."
   ]
  },
  {
   "cell_type": "markdown",
   "metadata": {},
   "source": [
    "## upsampling?\n",
    "\n",
    "```\n",
    "네트워크의 특징맵을 확장시키는 것. pooling같은 downsampling의 반대개념.\n",
    "\n",
    "```\n",
    "### - neareset neighbor unpooling (upsampling)\n",
    "\n",
    "```\n",
    "해당 값 복사\n",
    "```\n",
    "\n",
    "### - bed of nails unpooling (upsampling)\n",
    "\n",
    "```\n",
    "unpooling region에만 값을 복사하고 다른곳은 다 0으로 채움.\n",
    "\n",
    "0을 제외하면 다 값이 튀기 때문에 붙여진 이름.\n",
    "\n",
    "(0이 아닌 다른 최소값을 넣으면 변화가 없나?)\n",
    "```\n"
   ]
  },
  {
   "cell_type": "markdown",
   "metadata": {},
   "source": [
    "![upsampling](./image/upsampling.JPG)"
   ]
  },
  {
   "cell_type": "markdown",
   "metadata": {},
   "source": [
    "### - max unpooling\n",
    "\n",
    "```\n",
    "대부분의 네트워크는 대칭적인 경향이 존재 (= 보통 pooling의 수만큼 unpooling의 수가 있다는 것)\n",
    "\n",
    "각 pooling과 unpooling을 연관시켜 max pooling시 선택했던 위치를 기억해 그 자리에 넣어줌.\n",
    "\n",
    "공간정보를 기억한다는 것을 제외하면 bed of nails와 비슷하다.\n",
    "```\n",
    "\n",
    "> Q. 왜 이 방법이 중요한지, 어떤 부분에서 중요한지\n",
    "\n",
    "    maxpooling 이후에는 (최대값만 뽑아오니까) 공간정보를 잃어버리게 되는데, 이 방법을 사용하면 공간정보를 더 잘 유지하는 것이 가능\n",
    "    \n",
    "    segmentation시 경계선이 디테일할수록 좋음\n",
    "    \n",
    "> Q. max unpooling이 backprop를 더 수월하게 해주나?\n",
    "\n",
    "    그건 아니다. maxpooling index들을 저장하는 비용이 그리 크지 않아서 영향이 거의 안미친다\n",
    "    \n",
    "### - transpose convolution\n",
    "\n",
    "```\n",
    "이전까지의 방법들은 별도로 학습을 시키지 않는 고정된 함수임.\n",
    "\n",
    "strided convolution은 어느 식으로 다운샘플링 해야 할 지 학습 가능한데, 이와 유사하게 학습한다.\n",
    "\n",
    "입력 특징맵에서 (스칼라)값을 하나 선택하고 이 값을 필터와 곱해서, 출력의 영역에 값을 넣는다.\n",
    "\n",
    "벡터의 내적계산이 아니라, 입력값이 가중치의 역할을 한다.\n",
    "\n",
    "출력 값 = 필터 * 입력(가중치)\n",
    "\n",
    "필터값이 겹치는 부분은 두 값을 더해주고, 학습된 필터 가중치를 이용한다.\n",
    "```"
   ]
  },
  {
   "cell_type": "markdown",
   "metadata": {},
   "source": [
    "![transpose_convolution](./image/transpose_convolution.JPG)"
   ]
  },
  {
   "cell_type": "code",
   "execution_count": null,
   "metadata": {},
   "outputs": [],
   "source": []
  }
 ],
 "metadata": {
  "kernelspec": {
   "display_name": "Python 3",
   "language": "python",
   "name": "python3"
  },
  "language_info": {
   "codemirror_mode": {
    "name": "ipython",
    "version": 3
   },
   "file_extension": ".py",
   "mimetype": "text/x-python",
   "name": "python",
   "nbconvert_exporter": "python",
   "pygments_lexer": "ipython3",
   "version": "3.6.5"
  }
 },
 "nbformat": 4,
 "nbformat_minor": 2
}
